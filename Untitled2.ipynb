{
  "nbformat": 4,
  "nbformat_minor": 0,
  "metadata": {
    "colab": {
      "provenance": [],
      "authorship_tag": "ABX9TyPSFQu8enhk3idLJlLxSXfM",
      "include_colab_link": true
    },
    "kernelspec": {
      "name": "python3",
      "display_name": "Python 3"
    },
    "language_info": {
      "name": "python"
    }
  },
  "cells": [
    {
      "cell_type": "markdown",
      "metadata": {
        "id": "view-in-github",
        "colab_type": "text"
      },
      "source": [
        "<a href=\"https://colab.research.google.com/github/BrunoDaniell/Parcial_N2_Primeira/blob/main/Untitled2.ipynb\" target=\"_parent\"><img src=\"https://colab.research.google.com/assets/colab-badge.svg\" alt=\"Open In Colab\"/></a>"
      ]
    },
    {
      "cell_type": "code",
      "execution_count": 4,
      "metadata": {
        "colab": {
          "base_uri": "https://localhost:8080/"
        },
        "id": "IjFEBxNYQ-6l",
        "outputId": "3611bb47-64ec-415e-a5e0-cf4ca34665c9"
      },
      "outputs": [
        {
          "output_type": "stream",
          "name": "stdout",
          "text": [
            "✅ Caminho encontrado com custo 38\n",
            "S • ⬛ ⬜ ⬜ ⬜ ⬜ ⬜ ⬜ ⬜ ⬜ ⬜ ⬜ ⬛ ⬜ ⬜ ⬜ ⬛ ⬜ ⬜ \n",
            "⬜ • • • • ⬛ ⬜ ⬜ ⬜ ⬛ ⬜ ⬜ ⬜ ⬜ ⬜ ⬜ ⬜ ⬜ ⬜ ⬜ \n",
            "⬜ ⬜ ⬛ ⬜ • • • • • ⬛ ⬛ ⬜ ⬜ ⬜ ⬛ ⬜ ⬜ ⬜ ⬜ ⬜ \n",
            "⬜ ⬛ ⬜ ⬜ ⬜ ⬜ ⬜ ⬜ • • • • • • ⬛ ⬜ ⬜ ⬜ ⬜ ⬜ \n",
            "⬜ ⬜ ⬜ ⬜ ⬜ ⬜ ⬜ ⬜ ⬜ ⬜ ⬜ ⬜ ⬜ • ⬛ ⬜ ⬜ ⬜ ⬜ ⬜ \n",
            "⬜ ⬜ ⬜ ⬛ ⬜ ⬜ ⬜ ⬜ ⬛ ⬜ ⬜ ⬜ ⬜ • ⬛ ⬜ ⬜ ⬜ ⬛ ⬜ \n",
            "⬜ ⬛ ⬛ ⬛ ⬜ ⬜ ⬜ ⬜ ⬜ ⬜ ⬜ ⬜ ⬜ • • • ⬛ ⬜ ⬜ ⬛ \n",
            "⬜ ⬜ ⬛ ⬜ ⬜ ⬜ ⬜ ⬜ ⬛ ⬜ ⬜ ⬜ ⬜ ⬜ ⬜ • ⬜ ⬜ ⬜ ⬜ \n",
            "⬜ ⬜ ⬜ ⬜ ⬜ ⬜ ⬜ ⬜ ⬜ ⬜ ⬜ ⬜ ⬜ ⬜ ⬜ • ⬜ ⬜ ⬜ ⬜ \n",
            "⬜ ⬜ ⬜ ⬜ ⬜ ⬜ ⬜ ⬜ ⬛ ⬜ ⬜ ⬜ ⬜ ⬜ ⬜ • ⬜ ⬜ ⬜ ⬜ \n",
            "⬜ ⬜ ⬜ ⬜ ⬜ ⬜ ⬜ ⬜ ⬜ ⬜ ⬜ ⬜ ⬛ ⬜ ⬜ • ⬛ ⬜ ⬜ ⬜ \n",
            "⬜ ⬜ ⬜ ⬜ ⬜ ⬜ ⬜ ⬜ ⬜ ⬜ ⬛ ⬜ ⬜ ⬜ ⬜ • • ⬜ ⬜ ⬜ \n",
            "⬜ ⬜ ⬛ ⬛ ⬜ ⬜ ⬜ ⬛ ⬛ ⬜ ⬜ ⬜ ⬜ ⬜ ⬜ ⬜ • ⬛ ⬜ ⬜ \n",
            "⬜ ⬜ ⬜ ⬜ ⬜ ⬜ ⬜ ⬛ ⬜ ⬜ ⬜ ⬜ ⬜ ⬜ ⬜ ⬜ • • ⬛ ⬛ \n",
            "⬜ ⬜ ⬜ ⬛ ⬜ ⬜ ⬜ ⬜ ⬜ ⬜ ⬜ ⬜ ⬜ ⬜ ⬛ ⬜ ⬜ • • ⬜ \n",
            "⬜ ⬜ ⬜ ⬜ ⬛ ⬛ ⬜ ⬜ ⬜ ⬛ ⬜ ⬛ ⬛ ⬜ ⬜ ⬜ ⬛ ⬛ • ⬜ \n",
            "⬜ ⬜ ⬜ ⬜ ⬜ ⬜ ⬜ ⬜ ⬛ ⬜ ⬛ ⬛ ⬜ ⬛ ⬜ ⬛ ⬜ ⬜ • ⬛ \n",
            "⬛ ⬜ ⬛ ⬜ ⬜ ⬜ ⬜ ⬜ ⬜ ⬜ ⬜ ⬜ ⬜ ⬜ ⬜ ⬜ ⬜ ⬛ • • \n",
            "⬜ ⬜ ⬜ ⬜ ⬜ ⬛ ⬛ ⬜ ⬜ ⬜ ⬜ ⬜ ⬜ ⬛ ⬛ ⬜ ⬜ ⬛ ⬜ • \n",
            "⬜ ⬜ ⬜ ⬜ ⬜ ⬛ ⬜ ⬜ ⬜ ⬜ ⬜ ⬜ ⬜ ⬜ ⬜ ⬜ ⬜ ⬜ ⬜ G \n"
          ]
        }
      ],
      "source": [
        "import heapq\n",
        "import random\n",
        "\n",
        "# -----------------------------\n",
        "# 1️⃣ Gera um grid 20x20 com 15% de obstáculos\n",
        "# -----------------------------\n",
        "def gerar_grid(tamanho=20, prob_obstaculo=0.15):\n",
        "    grid = []\n",
        "    for _ in range(tamanho):\n",
        "        linha = [0 if random.random() > prob_obstaculo else 1 for _ in range(tamanho)]\n",
        "        grid.append(linha)\n",
        "    return grid\n",
        "\n",
        "# -----------------------------\n",
        "# 2️⃣ Função heurística (distância Manhattan)\n",
        "# -----------------------------\n",
        "def heuristic(a, b):\n",
        "    # Distância Manhattan = |x1 - x2| + |y1 - y2|\n",
        "    return abs(a[0] - b[0]) + abs(a[1] - b[1])\n",
        "\n",
        "# -----------------------------\n",
        "# 3️⃣ Algoritmo A* (Busca Informada)\n",
        "# -----------------------------\n",
        "def a_star(grid, start, goal, h):\n",
        "    tamanho = len(grid)\n",
        "    movimentos = [(0,1), (0,-1), (1,0), (-1,0)]  # 4 direções\n",
        "    open_set = []\n",
        "    heapq.heappush(open_set, (0, start))\n",
        "\n",
        "    g_score = {start: 0}\n",
        "    parent = {start: None}\n",
        "\n",
        "    while open_set:\n",
        "        _, atual = heapq.heappop(open_set)\n",
        "\n",
        "        if atual == goal:\n",
        "            # Reconstrói o caminho\n",
        "            caminho = []\n",
        "            while atual is not None:\n",
        "                caminho.append(atual)\n",
        "                atual = parent[atual]\n",
        "            caminho.reverse()\n",
        "            return caminho, g_score[goal]\n",
        "\n",
        "        for dx, dy in movimentos:\n",
        "            vizinho = (atual[0] + dx, atual[1] + dy)\n",
        "            # Verifica limites do grid e obstáculos\n",
        "            if (0 <= vizinho[0] < tamanho and 0 <= vizinho[1] < tamanho and grid[vizinho[0]][vizinho[1]] == 0):\n",
        "                novo_g = g_score[atual] + 1\n",
        "                if vizinho not in g_score or novo_g < g_score[vizinho]:\n",
        "                    g_score[vizinho] = novo_g\n",
        "                    f_score = novo_g + h(vizinho, goal)\n",
        "                    heapq.heappush(open_set, (f_score, vizinho))\n",
        "                    parent[vizinho] = atual\n",
        "    return None, float('inf')\n",
        "\n",
        "# -----------------------------\n",
        "# 4️⃣ Teste do algoritmo\n",
        "# -----------------------------\n",
        "grid = gerar_grid()\n",
        "start = (0, 0)\n",
        "goal = (19, 19)\n",
        "\n",
        "# Garante que início e fim não sejam obstáculos\n",
        "grid[start[0]][start[1]] = 0\n",
        "grid[goal[0]][goal[1]] = 0\n",
        "\n",
        "caminho, custo = a_star(grid, start, goal, heuristic)\n",
        "\n",
        "# Exibe resultado\n",
        "if caminho:\n",
        "    print(f\"✅ Caminho encontrado com custo {custo}\")\n",
        "else:\n",
        "    print(\"❌ Nenhum caminho encontrado.\")\n",
        "\n",
        "# Exibe visualmente o grid\n",
        "for i in range(len(grid)):\n",
        "    linha = \"\"\n",
        "    for j in range(len(grid[i])):\n",
        "        if (i, j) == start:\n",
        "            linha += \"S \"  # Start\n",
        "        elif (i, j) == goal:\n",
        "            linha += \"G \"  # Goal\n",
        "        elif (i, j) in caminho:\n",
        "            linha += \"• \"  # Caminho\n",
        "        elif grid[i][j] == 1:\n",
        "            linha += \"⬛ \"  # Obstáculo\n",
        "        else:\n",
        "            linha += \"⬜ \"\n",
        "    print(linha)\n"
      ]
    }
  ]
}