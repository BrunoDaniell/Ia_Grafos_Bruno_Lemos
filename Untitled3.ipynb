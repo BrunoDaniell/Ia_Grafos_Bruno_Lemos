{
  "nbformat": 4,
  "nbformat_minor": 0,
  "metadata": {
    "colab": {
      "provenance": [],
      "authorship_tag": "ABX9TyNBLdpEnBIn5lCVEjCEx3wx",
      "include_colab_link": true
    },
    "kernelspec": {
      "name": "python3",
      "display_name": "Python 3"
    },
    "language_info": {
      "name": "python"
    }
  },
  "cells": [
    {
      "cell_type": "markdown",
      "metadata": {
        "id": "view-in-github",
        "colab_type": "text"
      },
      "source": [
        "<a href=\"https://colab.research.google.com/github/BrunoDaniell/Parcial_N2_Primeira/blob/main/Untitled3.ipynb\" target=\"_parent\"><img src=\"https://colab.research.google.com/assets/colab-badge.svg\" alt=\"Open In Colab\"/></a>"
      ]
    },
    {
      "cell_type": "code",
      "execution_count": 1,
      "metadata": {
        "colab": {
          "base_uri": "https://localhost:8080/"
        },
        "id": "BS6oMv-SSTXO",
        "outputId": "da46b2c7-eff0-4214-a4f7-e2cfb05a6070"
      },
      "outputs": [
        {
          "output_type": "stream",
          "name": "stdout",
          "text": [
            "Percurso em-ordem (ordenado):\n",
            "20 30 35 40 45 50 60 70 80 \n",
            "\n",
            "Percurso pré-ordem:\n",
            "50 30 20 40 35 45 70 60 80 \n",
            "\n",
            "Percurso pós-ordem:\n",
            "20 35 45 40 30 60 80 70 50 \n",
            "\n"
          ]
        }
      ],
      "source": [
        "# Definição do nó da árvore binária\n",
        "class Node:\n",
        "    def __init__(self, valor):\n",
        "        self.valor = valor\n",
        "        self.esq = None\n",
        "        self.dir = None\n",
        "\n",
        "# Função para inserir um novo nó na BST\n",
        "def inserir(root, valor):\n",
        "    if root is None:\n",
        "        return Node(valor)\n",
        "    if valor < root.valor:\n",
        "        root.esq = inserir(root.esq, valor)\n",
        "    else:\n",
        "        root.dir = inserir(root.dir, valor)\n",
        "    return root\n",
        "\n",
        "# Percurso em-ordem (in-order): Esquerda → Raiz → Direita\n",
        "def in_order(root):\n",
        "    if root:\n",
        "        in_order(root.esq)\n",
        "        print(root.valor, end=' ')\n",
        "        in_order(root.dir)\n",
        "\n",
        "# Percurso pré-ordem (pre-order): Raiz → Esquerda → Direita\n",
        "def pre_order(root):\n",
        "    if root:\n",
        "        print(root.valor, end=' ')\n",
        "        pre_order(root.esq)\n",
        "        pre_order(root.dir)\n",
        "\n",
        "# Percurso pós-ordem (post-order): Esquerda → Direita → Raiz\n",
        "def post_order(root):\n",
        "    if root:\n",
        "        post_order(root.esq)\n",
        "        post_order(root.dir)\n",
        "        print(root.valor, end=' ')\n",
        "\n",
        "# ---- Teste ----\n",
        "valores = [50, 30, 70, 20, 40, 60, 80, 35, 45]\n",
        "\n",
        "root = None\n",
        "for v in valores:\n",
        "    root = inserir(root, v)\n",
        "\n",
        "print(\"Percurso em-ordem (ordenado):\")\n",
        "in_order(root)\n",
        "print(\"\\n\")\n",
        "\n",
        "print(\"Percurso pré-ordem:\")\n",
        "pre_order(root)\n",
        "print(\"\\n\")\n",
        "\n",
        "print(\"Percurso pós-ordem:\")\n",
        "post_order(root)\n",
        "print(\"\\n\")\n"
      ]
    }
  ]
}