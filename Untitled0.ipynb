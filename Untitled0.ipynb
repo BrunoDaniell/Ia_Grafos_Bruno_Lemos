{
  "nbformat": 4,
  "nbformat_minor": 0,
  "metadata": {
    "colab": {
      "provenance": [],
      "toc_visible": true,
      "authorship_tag": "ABX9TyMvHM45BV3OjTq1U05y/Rvd",
      "include_colab_link": true
    },
    "kernelspec": {
      "name": "python3",
      "display_name": "Python 3"
    },
    "language_info": {
      "name": "python"
    }
  },
  "cells": [
    {
      "cell_type": "markdown",
      "metadata": {
        "id": "view-in-github",
        "colab_type": "text"
      },
      "source": [
        "<a href=\"https://colab.research.google.com/github/BrunoDaniell/Parcial_N2_Primeira/blob/main/Untitled0.ipynb\" target=\"_parent\"><img src=\"https://colab.research.google.com/assets/colab-badge.svg\" alt=\"Open In Colab\"/></a>"
      ]
    },
    {
      "cell_type": "code",
      "execution_count": 2,
      "metadata": {
        "colab": {
          "base_uri": "https://localhost:8080/"
        },
        "id": "U3nBP5t6HDfB",
        "outputId": "ca5e1c65-ff27-4723-bd18-38be9d7df2b3"
      },
      "outputs": [
        {
          "output_type": "stream",
          "name": "stdout",
          "text": [
            "🚑 Distâncias mínimas até cada ponto:\n",
            "{'Hospital': 0, 'A': 3, 'B': 2, 'C': 6, 'Destino': 8}\n",
            "\n",
            "🧭 Predecessores de cada ponto:\n",
            "{'Hospital': None, 'A': 'B', 'B': 'Hospital', 'C': 'A', 'Destino': 'C'}\n",
            "\n",
            "✅ Melhor rota encontrada:\n",
            "Hospital ➜ B ➜ A ➜ C ➜ Destino\n"
          ]
        }
      ],
      "source": [
        "import heapq\n",
        "\n",
        "def dijkstra(grafo, origem):\n",
        "    dist = {no: float('inf') for no in grafo}\n",
        "    parent = {no: None for no in grafo}\n",
        "    dist[origem] = 0\n",
        "\n",
        "    fila = [(0, origem)]  # (custo, nó)\n",
        "\n",
        "    while fila:\n",
        "        custo_atual, no_atual = heapq.heappop(fila)\n",
        "\n",
        "        if custo_atual > dist[no_atual]:\n",
        "            continue\n",
        "\n",
        "        for vizinho, peso in grafo[no_atual]:\n",
        "            novo_custo = custo_atual + peso\n",
        "            if novo_custo < dist[vizinho]:\n",
        "                dist[vizinho] = novo_custo\n",
        "                parent[vizinho] = no_atual\n",
        "                heapq.heappush(fila, (novo_custo, vizinho))\n",
        "\n",
        "    return dist, parent\n",
        "\n",
        "\n",
        "def reconstruct_path(parent, destino):\n",
        "    caminho = []\n",
        "    while destino is not None:\n",
        "        caminho.append(destino)\n",
        "        destino = parent[destino]\n",
        "    caminho.reverse()\n",
        "    return caminho\n",
        "\n",
        "\n",
        "# Grafo de exemplo (representando ruas e tempos médios)\n",
        "grafo = {\n",
        "    'Hospital': [('A', 4), ('B', 2)],\n",
        "    'A': [('C', 3)],\n",
        "    'B': [('A', 1), ('C', 5)],\n",
        "    'C': [('Destino', 2)],\n",
        "    'Destino': []\n",
        "}\n",
        "\n",
        "# Executa o algoritmo\n",
        "dist, parent = dijkstra(grafo, 'Hospital')\n",
        "\n",
        "print(\"🚑 Distâncias mínimas até cada ponto:\")\n",
        "print(dist)\n",
        "\n",
        "print(\"\\n🧭 Predecessores de cada ponto:\")\n",
        "print(parent)\n",
        "\n",
        "caminho = reconstruct_path(parent, 'Destino')\n",
        "print(\"\\n✅ Melhor rota encontrada:\")\n",
        "print(\" ➜ \".join(caminho))\n"
      ]
    },
    {
      "cell_type": "markdown",
      "source": [
        "# Nova seção"
      ],
      "metadata": {
        "id": "B1xP3c54Khun"
      }
    }
  ]
}