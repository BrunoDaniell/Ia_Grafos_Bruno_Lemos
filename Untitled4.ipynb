{
  "nbformat": 4,
  "nbformat_minor": 0,
  "metadata": {
    "colab": {
      "provenance": [],
      "authorship_tag": "ABX9TyO9kbSf+HkZJ69djRoCOTOP",
      "include_colab_link": true
    },
    "kernelspec": {
      "name": "python3",
      "display_name": "Python 3"
    },
    "language_info": {
      "name": "python"
    }
  },
  "cells": [
    {
      "cell_type": "markdown",
      "metadata": {
        "id": "view-in-github",
        "colab_type": "text"
      },
      "source": [
        "<a href=\"https://colab.research.google.com/github/BrunoDaniell/Parcial_N2_Primeira/blob/main/Untitled4.ipynb\" target=\"_parent\"><img src=\"https://colab.research.google.com/assets/colab-badge.svg\" alt=\"Open In Colab\"/></a>"
      ]
    },
    {
      "cell_type": "markdown",
      "source": [
        "1 - Quando não é vantajoso usar A*, mesmo tendo uma heurística?\n",
        "\n",
        "O A* deixa de ser vantajoso quando o problema é muito grande ou a heurística não ajuda de verdade a guiar a busca. Nesses casos, ele acaba explorando quase todos os caminhos possíveis, ficando tão pesado quanto o Dijkstra. Além disso, em ambientes que mudam constantemente (como mapas dinâmicos em jogos), é caro recalcular o A* várias vezes. Ou seja, se a heurística for fraca ou o cenário mudar rápido demais, o custo do A* não compensa o benefício.\n",
        "\n",
        "2 -  Diferencie corretude e otimalidade nos algoritmos estudados.\n",
        "\n",
        "A corretude significa que o algoritmo sempre encontra uma solução válida, se ela existir. Já a otimalidade quer dizer que essa solução é a melhor possível, levando em conta o custo ou o desempenho. Por exemplo, o algoritmo de busca em largura é correto e ótimo em grafos com custos iguais, enquanto o A* só é ótimo se sua heurística for admissível. Então, dá pra dizer que um algoritmo pode ser correto sem ser o mais eficiente — mas não o contrário.\n",
        "\n",
        "3 - Dê um exemplo do mundo real onde cada tipo de percurso (em, pré, pós) é essencial.\n",
        "\n",
        "Em-ordem (in-order): usado em lojas online ou sistemas de recomendação para exibir produtos em ordem de preço ou nome.\n",
        "\n",
        "Pré-ordem (pre-order): útil quando queremos copiar ou exportar a estrutura de uma árvore, como no backup de pastas ou na leitura de árvores sintáticas em compiladores.\n",
        "\n",
        "Pós-ordem (post-order): aplicado em cálculos que dependem dos “filhos” antes do “pai”, como somar valores em uma árvore contábil ou liberar memória em estruturas de dados.\n",
        "\n",
        "4 - Como heurísticas inconsistentes podem afetar o resultado do A*?\n",
        "\n",
        "Quando a heurística é inconsistente, ela pode “enganar” o A*, fazendo o algoritmo acreditar que certos caminhos são mais curtos do que realmente são. Isso faz com que alguns nós precisem ser revisitados, aumentando o tempo de execução e, em alguns casos, prejudicando a otimalidade do resultado. Em contextos práticos, como em jogos ou navegação de robôs, isso pode gerar rotas estranhas, com voltas desnecessárias ou movimentos fora do esperado."
      ],
      "metadata": {
        "id": "vptQKwP9Tcjo"
      }
    }
  ]
}